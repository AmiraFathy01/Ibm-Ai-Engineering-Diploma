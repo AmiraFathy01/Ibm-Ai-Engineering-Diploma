{
  "cells": [
    {
      "cell_type": "markdown",
      "metadata": {
        "id": "9a6a44d9-3f24-451c-ae45-55ba0b3896ce"
      },
      "source": [
        "# Fashion MNIST"
      ]
    },
    {
      "cell_type": "markdown",
      "metadata": {
        "id": "7bcc3c7c-e6a4-4225-b65b-aa72baca8c82"
      },
      "source": [
        "<h2>Preparation</h2>\n"
      ]
    },
    {
      "cell_type": "code",
      "execution_count": null,
      "metadata": {
        "colab": {
          "base_uri": "https://localhost:8080/"
        },
        "id": "1f7e745d-83f4-432b-a44c-cd3e59bfadb6",
        "outputId": "a30deff4-1555-453f-fcee-6d5750773731"
      },
      "outputs": [
        {
          "output_type": "stream",
          "name": "stdout",
          "text": [
            "GPU available: Tesla T4\n"
          ]
        }
      ],
      "source": [
        "# import libraries we need\n",
        "import torch\n",
        "import torch.nn as nn\n",
        "import torchvision.transforms as transforms\n",
        "import torchvision.datasets as dsets\n",
        "import matplotlib.pylab as plt\n",
        "import numpy as np\n",
        "\n",
        "if torch.cuda.is_available():\n",
        "    gpu_name = torch.cuda.get_device_name(0)\n",
        "    print(f\"GPU available: {gpu_name}\")\n",
        "else:\n",
        "    print(\"No GPU available.\")"
      ]
    },
    {
      "cell_type": "code",
      "execution_count": null,
      "metadata": {
        "id": "gTfzC7247LWQ"
      },
      "outputs": [],
      "source": [
        "def show_data(data_sample):\n",
        "    plt.imshow(data_sample[0].numpy().reshape(IMAGE_SIZE, IMAGE_SIZE), cmap='gray')\n",
        "    plt.title('y = '+ str(data_sample[1]))"
      ]
    },
    {
      "cell_type": "markdown",
      "metadata": {
        "id": "6f647dec-2b73-45a6-9c4c-7d90474b27d9"
      },
      "source": [
        "<h2 id=\"Makeup_Data\">Get the Data</h2>\n"
      ]
    },
    {
      "cell_type": "markdown",
      "metadata": {
        "id": "d791b032-0137-4521-888d-3a9fd4a76de9"
      },
      "source": [
        "we create a transform to resize the image and convert it to a tensor :\n"
      ]
    },
    {
      "cell_type": "code",
      "execution_count": null,
      "metadata": {
        "id": "13a50307-97cd-4365-bb95-a3d5a84816bb"
      },
      "outputs": [],
      "source": [
        "\n",
        "IMAGE_SIZE = 28\n",
        "\n",
        "composed = transforms.Compose([transforms.Resize((IMAGE_SIZE, IMAGE_SIZE)), transforms.ToTensor()])"
      ]
    },
    {
      "cell_type": "markdown",
      "metadata": {
        "id": "4e913b99-b14a-493f-a1bb-7b08b6ec5a13"
      },
      "source": [
        "Load the training dataset by setting the parameters <code>train </code> to <code>True</code>. We use the transform defined above.\n"
      ]
    },
    {
      "cell_type": "code",
      "execution_count": null,
      "metadata": {
        "id": "09740e48-d568-4089-a81e-20f9e1cad872"
      },
      "outputs": [],
      "source": [
        "\n",
        "train_dataset = dsets.FashionMNIST(root='./data', train=True, download=True, transform=composed)"
      ]
    },
    {
      "cell_type": "markdown",
      "metadata": {
        "id": "58fb4e23-78e7-4d65-8af8-25904ce82268"
      },
      "source": [
        "Load the testing dataset by setting the parameters train  <code>False</code>.\n"
      ]
    },
    {
      "cell_type": "code",
      "execution_count": null,
      "metadata": {
        "id": "67b10237-7dd3-43c4-9200-7cbe5c8d46dc"
      },
      "outputs": [],
      "source": [
        "# Make the validating\n",
        "\n",
        "validation_dataset = dsets.FashionMNIST(root='./data', train=False, download=True, transform=composed)"
      ]
    },
    {
      "cell_type": "markdown",
      "metadata": {
        "id": "053c5b3f-adbf-4baa-9027-a1a60b0555ee"
      },
      "source": [
        "We can see the data type is long.\n"
      ]
    },
    {
      "cell_type": "code",
      "execution_count": null,
      "metadata": {
        "colab": {
          "base_uri": "https://localhost:8080/"
        },
        "id": "ab8ed20f-deb6-4fdc-ab0d-4c1d9fe29237",
        "outputId": "9009f635-1cc6-4832-cde0-566b2b3811eb"
      },
      "outputs": [
        {
          "output_type": "execute_result",
          "data": {
            "text/plain": [
              "int"
            ]
          },
          "metadata": {},
          "execution_count": 9
        }
      ],
      "source": [
        "# Show the data type for each element in dataset\n",
        "\n",
        "type(train_dataset[0][1])"
      ]
    },
    {
      "cell_type": "markdown",
      "metadata": {
        "id": "b519d0bf-29f0-4871-a174-0f773a05fe71"
      },
      "source": [
        "Print out the fourth label\n"
      ]
    },
    {
      "cell_type": "code",
      "execution_count": null,
      "metadata": {
        "colab": {
          "base_uri": "https://localhost:8080/"
        },
        "id": "5f6304e8-b610-449f-9070-3934e2179b5b",
        "outputId": "6ef376bd-e81e-4630-8690-d9beb4b7e3aa"
      },
      "outputs": [
        {
          "output_type": "execute_result",
          "data": {
            "text/plain": [
              "3"
            ]
          },
          "metadata": {},
          "execution_count": 10
        }
      ],
      "source": [
        "# The label for the fourth data element\n",
        "\n",
        "train_dataset[3][1]"
      ]
    },
    {
      "cell_type": "markdown",
      "metadata": {
        "id": "23d491f9-b49a-4517-8c41-32f9cc1d8b9a"
      },
      "source": [
        "Plot the fourth sample\n"
      ]
    },
    {
      "cell_type": "code",
      "execution_count": null,
      "metadata": {
        "colab": {
          "base_uri": "https://localhost:8080/",
          "height": 452
        },
        "id": "e3559e1d-6e65-4d10-bb2d-f2260314cdf2",
        "outputId": "553f165a-8c92-4699-ff8d-ddf7d1576a79"
      },
      "outputs": [
        {
          "output_type": "display_data",
          "data": {
            "text/plain": [
              "<Figure size 640x480 with 1 Axes>"
            ],
            "image/png": "[encoded data removed]"
          },
          "metadata": {}
        }
      ],
      "source": [
        "# The image for the fourth data element\n",
        "show_data(train_dataset[3])\n"
      ]
    },
    {
      "cell_type": "markdown",
      "metadata": {
        "id": "d957d7f4-bc3a-40a1-b729-f9fd606e6fbf"
      },
      "source": [
        "The fourth sample is a \"3\".\n"
      ]
    },
    {
      "cell_type": "markdown",
      "metadata": {
        "id": "bc4f602f-496b-40e9-8d0c-6917d4d16cf8"
      },
      "source": [
        "<!--Empty Space for separating topics-->\n"
      ]
    },
    {
      "cell_type": "markdown",
      "metadata": {
        "id": "db198bf4-16c8-4b48-ba51-ae9087d38558"
      },
      "source": [
        "<h2 id=\"CNN\">Build a Two Convolutional Neural Network Class</h2>\n"
      ]
    },
    {
      "cell_type": "markdown",
      "metadata": {
        "id": "bb8f2bf5-62aa-43e4-84d5-1687b53d021d"
      },
      "source": [
        "Build a Convolutional Network class with two Convolutional layers and one fully connected layer. Pre-determine the size of the final output matrix. The parameters in the constructor are the number of output channels for the first and second layer.\n"
      ]
    },
    {
      "cell_type": "code",
      "execution_count": null,
      "metadata": {
        "id": "e33a2c35-1087-4ce4-bd49-3f949fadbb2c"
      },
      "outputs": [],
      "source": [
        "class CNN(nn.Module):\n",
        "\n",
        "    # Contructor\n",
        "    def __init__(self, out_1=16, out_2=32):\n",
        "        super(CNN, self).__init__()\n",
        "        self.cnn1 = nn.Conv2d(in_channels=1, out_channels=out_1, kernel_size=3, padding=2)\n",
        "        self.maxpool1=nn.MaxPool2d(kernel_size=2)\n",
        "\n",
        "        self.cnn2 = nn.Conv2d(in_channels=out_1, out_channels=out_2, kernel_size=3, stride=1, padding=2)\n",
        "        self.maxpool2=nn.MaxPool2d(kernel_size=2)\n",
        "        self.fc1 = nn.Linear(out_2 * 8 * 8, 10)\n",
        "\n",
        "    # Prediction\n",
        "    def forward(self, x):\n",
        "        x = self.cnn1(x)\n",
        "        x = torch.relu(x)\n",
        "        x = self.maxpool1(x)\n",
        "        x = self.cnn2(x)\n",
        "        x = torch.relu(x)\n",
        "        x = self.maxpool2(x)\n",
        "        x = x.view(x.size(0), -1)\n",
        "        x = self.fc1(x)\n",
        "        return x\n"
      ]
    },
    {
      "cell_type": "markdown",
      "metadata": {
        "id": "a447ece7-7ec8-4fb6-a6c5-8599a246cc93"
      },
      "source": [
        "Build a Convolutional Network class with two Convolutional layers and one fully connected layer. But we add Batch Norm for the convolutional layers.\n"
      ]
    },
    {
      "cell_type": "code",
      "execution_count": null,
      "metadata": {
        "id": "37bcfa21-6951-4ac9-adb2-04c3d8a2a3b8"
      },
      "outputs": [],
      "source": [
        "class CNN_batch(nn.Module):\n",
        "\n",
        "    # Contructor\n",
        "    def __init__(self, out_1=16, out_2=32,number_of_classes=10):\n",
        "        super(CNN_batch, self).__init__()\n",
        "        self.cnn1 = nn.Conv2d(in_channels=1, out_channels=out_1, kernel_size=3, padding=2)\n",
        "        self.conv1_bn = nn.BatchNorm2d(out_1)\n",
        "        self.maxpool1=nn.MaxPool2d(kernel_size=2)\n",
        "\n",
        "        self.cnn2 = nn.Conv2d(in_channels=out_1, out_channels=out_2, kernel_size=3, stride=1, padding=2)\n",
        "        self.conv2_bn = nn.BatchNorm2d(out_2)\n",
        "        self.maxpool2=nn.MaxPool2d(kernel_size=2)\n",
        "\n",
        "        self.fc1 = nn.Linear(out_2 * 8 * 8, number_of_classes)\n",
        "        self.bn_fc1 = nn.BatchNorm1d(10)\n",
        "\n",
        "    # Prediction\n",
        "    def forward(self, x):\n",
        "        x = self.cnn1(x)\n",
        "        x=self.conv1_bn(x)\n",
        "        x = torch.relu(x)\n",
        "        x = self.maxpool1(x)\n",
        "        x = self.cnn2(x)\n",
        "        x=self.conv2_bn(x)\n",
        "        x = torch.relu(x)\n",
        "        x = self.maxpool2(x)\n",
        "        x = x.view(x.size(0), -1)\n",
        "        x = self.fc1(x)\n",
        "        x=self.bn_fc1(x)\n",
        "        return x"
      ]
    },
    {
      "cell_type": "markdown",
      "metadata": {
        "id": "846fbb8b-9f36-44d0-a3e6-4912b2f497dc"
      },
      "source": [
        "Function to train the model\n"
      ]
    },
    {
      "cell_type": "code",
      "execution_count": null,
      "metadata": {
        "id": "bd0269a6-7b7c-444e-8b22-dfd556a16e1f"
      },
      "outputs": [],
      "source": [
        "\n",
        "def train_model(model, train_loader, validation_loader, optimizer, n_epochs):\n",
        "    train_loss_list = []\n",
        "    validation_loss_list = []\n",
        "    accuracy_list = []\n",
        "    N_test = len(validation_loader.dataset)\n",
        "\n",
        "    for epoch in range(n_epochs):\n",
        "        epoch_train_loss = 0.0\n",
        "        for x, y in train_loader:\n",
        "            optimizer.zero_grad()\n",
        "            x, y = x, y\n",
        "            yhat_train = model(x)\n",
        "            loss = criterion(yhat_train, y)\n",
        "            epoch_train_loss += loss\n",
        "            loss.backward()\n",
        "            optimizer.step()\n",
        "        train_loss_list.append((epoch_train_loss/len(train_dataset)).item())\n",
        "\n",
        "        correct = 0\n",
        "        with torch.no_grad():\n",
        "            for x_cv, y_cv in validation_loader:\n",
        "                model.eval()\n",
        "                x_cv, y_cv = x_cv, y_cv\n",
        "                yhat_validation = model(x_cv)\n",
        "                _, yhat_max = torch.max(yhat_validation, 1)\n",
        "                correct += (yhat_max == y_cv).sum().item()\n",
        "            accuracy = correct / N_test\n",
        "            accuracy_list.append(accuracy)\n",
        "            print(f'Epoch: {epoch} ------ last loss item: {loss} ------ accuracy: {accuracy}')\n",
        "\n",
        "    return accuracy_list, train_loss_list ,validation_loss_list\n",
        "\n"
      ]
    },
    {
      "cell_type": "markdown",
      "metadata": {
        "id": "098f4b3c-4c50-4fd8-a887-58c428379752"
      },
      "source": [
        "<h2 id=\"Train\">Define the Convolutional Neural Network Classifier, Criterion function, Optimizer and Train the Model</h2>\n"
      ]
    },
    {
      "cell_type": "markdown",
      "metadata": {
        "id": "13bc89a3-6e85-4bd6-a0fc-aba6c1dcadca"
      },
      "source": [
        "There are 16 output channels for the first layer, and 32 output channels for the second layer\n"
      ]
    },
    {
      "cell_type": "code",
      "execution_count": null,
      "metadata": {
        "id": "3542a623-96b1-49ec-9adb-fd21631f46b1"
      },
      "outputs": [],
      "source": [
        "# Create the model object using CNN class\n",
        "model = CNN(out_1=16, out_2=32)"
      ]
    },
    {
      "cell_type": "markdown",
      "metadata": {
        "id": "75a12999-017c-4b9a-85ab-083fec760ca6"
      },
      "source": [
        "Define the loss function, the optimizer and the dataset loader\n"
      ]
    },
    {
      "cell_type": "code",
      "execution_count": null,
      "metadata": {
        "id": "f5684350-9471-4b34-8121-e978d9d8fdc5"
      },
      "outputs": [],
      "source": [
        "criterion = nn.CrossEntropyLoss()\n",
        "learning_rate = 0.1\n",
        "optimizer = torch.optim.SGD(model.parameters(), lr = learning_rate)\n",
        "train_loader = torch.utils.data.DataLoader(dataset=train_dataset, batch_size=100)\n",
        "validation_loader = torch.utils.data.DataLoader(dataset=validation_dataset, batch_size=5000)"
      ]
    },
    {
      "cell_type": "markdown",
      "metadata": {
        "id": "228b51eb-03ab-4c69-86f1-c77e119507e7"
      },
      "source": [
        "Train the model and determine validation accuracy technically test accuracy **(This may take a long time)**\n"
      ]
    },
    {
      "cell_type": "code",
      "execution_count": null,
      "metadata": {
        "colab": {
          "base_uri": "https://localhost:8080/",
          "height": 385
        },
        "id": "1a879318-c8da-44b4-933b-23f9061f4c09",
        "outputId": "40f8f416-4aa7-4f19-9707-2f30f1e039e3"
      },
      "outputs": [
        {
          "name": "stdout",
          "output_type": "stream",
          "text": [
            "Epoch: 0 ------ last loss item: 0.4204699993133545 ------ accuracy: 0.8391\n",
            "Epoch: 1 ------ last loss item: 0.3259360194206238 ------ accuracy: 0.8664\n",
            "Epoch: 2 ------ last loss item: 0.2852664887905121 ------ accuracy: 0.8781\n",
            "Epoch: 3 ------ last loss item: 0.25899940729141235 ------ accuracy: 0.8855\n",
            "Epoch: 4 ------ last loss item: 0.24061299860477448 ------ accuracy: 0.8897\n",
            "Epoch: 5 ------ last loss item: 0.23180663585662842 ------ accuracy: 0.8926\n",
            "Epoch: 6 ------ last loss item: 0.22296184301376343 ------ accuracy: 0.8953\n",
            "Epoch: 7 ------ last loss item: 0.21902334690093994 ------ accuracy: 0.8975\n",
            "Epoch: 8 ------ last loss item: 0.21221962571144104 ------ accuracy: 0.899\n",
            "Epoch: 9 ------ last loss item: 0.20632430911064148 ------ accuracy: 0.9004\n"
          ]
        },
        {
          "ename": "TypeError",
          "evalue": "ignored",
          "output_type": "error",
          "traceback": [
            "\u001b[0;31m---------------------------------------------------------------------------\u001b[0m",
            "\u001b[0;31mTypeError\u001b[0m                                 Traceback (most recent call last)",
            "\u001b[0;32m<ipython-input-74-65331361d58f>\u001b[0m in \u001b[0;36m<cell line: 2>\u001b[0;34m()\u001b[0m\n\u001b[1;32m      1\u001b[0m \u001b[0;31m# Train the model\u001b[0m\u001b[0;34m\u001b[0m\u001b[0;34m\u001b[0m\u001b[0m\n\u001b[0;32m----> 2\u001b[0;31m \u001b[0maccuracy_list_normal\u001b[0m\u001b[0;34m,\u001b[0m \u001b[0mloss_list_normal\u001b[0m\u001b[0;34m=\u001b[0m\u001b[0mtrain_model\u001b[0m\u001b[0;34m(\u001b[0m\u001b[0mmodel\u001b[0m\u001b[0;34m=\u001b[0m\u001b[0mmodel\u001b[0m\u001b[0;34m,\u001b[0m\u001b[0mn_epochs\u001b[0m\u001b[0;34m=\u001b[0m\u001b[0;36m10\u001b[0m\u001b[0;34m,\u001b[0m\u001b[0mtrain_loader\u001b[0m\u001b[0;34m=\u001b[0m\u001b[0mtrain_loader\u001b[0m\u001b[0;34m,\u001b[0m\u001b[0mvalidation_loader\u001b[0m\u001b[0;34m=\u001b[0m\u001b[0mvalidation_loader\u001b[0m\u001b[0;34m,\u001b[0m\u001b[0moptimizer\u001b[0m\u001b[0;34m=\u001b[0m\u001b[0moptimizer\u001b[0m\u001b[0;34m)\u001b[0m\u001b[0;34m\u001b[0m\u001b[0;34m\u001b[0m\u001b[0m\n\u001b[0m",
            "\u001b[0;31mTypeError\u001b[0m: cannot unpack non-iterable NoneType object"
          ]
        }
      ],
      "source": [
        "# Train the model\n",
        "accuracy_list_normal, loss_list_normal=train_model(model=model,n_epochs=10,train_loader=train_loader,validation_loader=validation_loader,optimizer=optimizer)"
      ]
    },
    {
      "cell_type": "markdown",
      "metadata": {
        "id": "18d3edbe-eb3c-4ed1-8561-c02befeb2816"
      },
      "source": [
        "Repeat the Process for the model with  batch norm\n"
      ]
    },
    {
      "cell_type": "code",
      "execution_count": null,
      "metadata": {
        "colab": {
          "base_uri": "https://localhost:8080/"
        },
        "id": "86a78b59-b98c-4969-9eea-fb7f20305c35",
        "outputId": "ee9da70c-9e9e-49e7-9683-0ca5d962fe92"
      },
      "outputs": [
        {
          "output_type": "stream",
          "name": "stdout",
          "text": [
            "Epoch: 0 ------ last loss item: 0.24522706866264343 ------ accuracy: 0.8904\n",
            "Epoch: 1 ------ last loss item: 2.3015193939208984 ------ accuracy: 0.1\n",
            "Epoch: 2 ------ last loss item: 1.1374553442001343 ------ accuracy: 0.6454\n",
            "Epoch: 3 ------ last loss item: 0.4083433449268341 ------ accuracy: 0.8561\n",
            "Epoch: 4 ------ last loss item: 0.34775906801223755 ------ accuracy: 0.87\n",
            "Epoch: 5 ------ last loss item: 0.3281010687351227 ------ accuracy: 0.8767\n",
            "Epoch: 6 ------ last loss item: 0.3073829412460327 ------ accuracy: 0.8783\n",
            "Epoch: 7 ------ last loss item: 0.29546475410461426 ------ accuracy: 0.88\n",
            "Epoch: 8 ------ last loss item: 0.2834315001964569 ------ accuracy: 0.8815\n",
            "Epoch: 9 ------ last loss item: 0.27024608850479126 ------ accuracy: 0.882\n"
          ]
        }
      ],
      "source": [
        "model_batch=CNN_batch(out_1=16, out_2=32)\n",
        "criterion = nn.CrossEntropyLoss()\n",
        "learning_rate = 0.1\n",
        "optimizer = torch.optim.SGD(model_batch.parameters(), lr = learning_rate)\n",
        "accuracy_list, train_loss_list ,validation_loss_list=train_model(model=model_batch,n_epochs=10,train_loader=train_loader,validation_loader=validation_loader,optimizer=optimizer)"
      ]
    },
    {
      "cell_type": "markdown",
      "metadata": {
        "id": "0f77568c-da3a-4041-9f03-672b35180ca4"
      },
      "source": [
        "<!--Empty Space for separating topics-->\n"
      ]
    },
    {
      "cell_type": "code",
      "execution_count": null,
      "metadata": {
        "colab": {
          "base_uri": "https://localhost:8080/",
          "height": 356
        },
        "id": "HTOsrgzr-yD5",
        "outputId": "33957e27-6acb-4256-e167-ef7ebc90a427"
      },
      "outputs": [
        {
          "output_type": "display_data",
          "data": {
            "text/plain": [
              "<Figure size 1200x400 with 3 Axes>"
            ],
            "image/png": "[encoded data removed]"
          },
          "metadata": {}
        }
      ],
      "source": [
        "\n",
        "fig, axes = plt.subplots(1, 3, figsize=(12, 4))\n",
        "for i in range(3):\n",
        "    plt.sca(axes[i])\n",
        "    show_data(validation_dataset[i])\n",
        "plt.show()"
      ]
    },
    {
      "cell_type": "markdown",
      "metadata": {
        "id": "1072d790-1756-45d3-b886-18fe5465ce85"
      },
      "source": [
        "<h2 id=\"Result\">Analyze Results</h2>\n"
      ]
    },
    {
      "cell_type": "markdown",
      "metadata": {
        "id": "c84a273d-af23-4e76-8985-f962ae66ff8a"
      },
      "source": [
        "Plot the loss with both networks.\n"
      ]
    },
    {
      "cell_type": "code",
      "execution_count": null,
      "metadata": {
        "id": "4ph9-tY9rNb9"
      },
      "outputs": [],
      "source": [
        "def plot_loss_and_accuracy(train_loss_list, accuracy_list):\n",
        "    plt.figure(figsize=(8, 4))\n",
        "    plt.subplot(1, 1, 1)\n",
        "    plt.plot(train_loss_list, label=\"Training Loss\", color='tab:blue')\n",
        "    plt.xlabel(\"Epoch\")\n",
        "    plt.ylabel(\"Loss\")\n",
        "    plt.legend(loc=\"upper left\")\n",
        "    plt.twinx()\n",
        "    plt.plot(accuracy_list, label=\"Validation Accuracy\", color='tab:green')\n",
        "    plt.ylabel(\"Accuracy\")\n",
        "    plt.legend(loc=\"upper right\")\n",
        "    plt.title(\"Training Loss and Validation Accuracy\")\n",
        "    plt.show()\n"
      ]
    },
    {
      "cell_type": "code",
      "execution_count": null,
      "metadata": {
        "colab": {
          "base_uri": "https://localhost:8080/",
          "height": 410
        },
        "id": "VCrlaq-KrP1R",
        "outputId": "10c6b41a-ca01-44ff-917b-a33bb2749694"
      },
      "outputs": [
        {
          "output_type": "display_data",
          "data": {
            "text/plain": [
              "<Figure size 800x400 with 2 Axes>"
            ],
            "image/png": "[encoded data removed]"
          },
          "metadata": {}
        }
      ],
      "source": [
        "plot_loss_and_accuracy(  train_loss_list ,accuracy_list)\n"
      ]
    },
    {
      "cell_type": "markdown",
      "metadata": {
        "id": "050bd346-422a-4769-8e34-92c354ff0ea7"
      },
      "source": [
        "We see the CNN with batch norm performers better, with faster convergence.\n"
      ]
    },
    {
      "cell_type": "markdown",
      "metadata": {
        "id": "1d7db87d-0d7a-42c2-8f56-7db9e210cdd6"
      },
      "source": [
        "<!--Empty Space for separating topics-->\n"
      ]
    }
  ],
  "metadata": {
    "accelerator": "GPU",
    "colab": {
      "provenance": []
    },
    "kernelspec": {
      "display_name": "Python 3",
      "name": "python3"
    },
    "language_info": {
      "codemirror_mode": {
        "name": "ipython",
        "version": 3
      },
      "file_extension": ".py",
      "mimetype": "text/x-python",
      "name": "python",
      "nbconvert_exporter": "python",
      "pygments_lexer": "ipython3",
      "version": "3.9.13"
    }
  },
  "nbformat": 4,
  "nbformat_minor": 0
}