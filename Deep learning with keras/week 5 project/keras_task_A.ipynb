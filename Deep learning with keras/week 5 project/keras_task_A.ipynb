{
  "cells": [
    {
      "cell_type": "code",
      "execution_count": 1,
      "id": "781c42b9",
      "metadata": {
        "id": "781c42b9"
      },
      "outputs": [],
      "source": [
        "# import libraries\n",
        "import pandas as pd\n",
        "import keras\n",
        "from sklearn.model_selection import train_test_split\n",
        "from keras.models import Sequential\n",
        "from keras.layers import Dense\n",
        "from sklearn.metrics import mean_squared_error\n",
        "import numpy as np"
      ]
    },
    {
      "cell_type": "markdown",
      "id": "65c40cd7",
      "metadata": {
        "id": "65c40cd7"
      },
      "source": [
        "# load data"
      ]
    },
    {
      "cell_type": "code",
      "execution_count": 3,
      "id": "93cb0ea1",
      "metadata": {
        "colab": {
          "base_uri": "https://localhost:8080/",
          "height": 206
        },
        "id": "93cb0ea1",
        "outputId": "04408107-0559-4ba8-9011-761ea7a34974"
      },
      "outputs": [
        {
          "data": {
            "text/html": [
              "\n",
              "  <div id=\"df-eab98d46-6386-4061-92e6-8cb810ded878\" class=\"colab-df-container\">\n",
              "    <div>\n",
              "<style scoped>\n",
              "    .dataframe tbody tr th:only-of-type {\n",
              "        vertical-align: middle;\n",
              "    }\n",
              "\n",
              "    .dataframe tbody tr th {\n",
              "        vertical-align: top;\n",
              "    }\n",
              "\n",
              "    .dataframe thead th {\n",
              "        text-align: right;\n",
              "    }\n",
              "</style>\n",
              "<table border=\"1\" class=\"dataframe\">\n",
              "  <thead>\n",
              "    <tr style=\"text-align: right;\">\n",
              "      <th></th>\n",
              "      <th>Cement</th>\n",
              "      <th>Blast Furnace Slag</th>\n",
              "      <th>Fly Ash</th>\n",
              "      <th>Water</th>\n",
              "      <th>Superplasticizer</th>\n",
              "      <th>Coarse Aggregate</th>\n",
              "      <th>Fine Aggregate</th>\n",
              "      <th>Age</th>\n",
              "      <th>Strength</th>\n",
              "    </tr>\n",
              "  </thead>\n",
              "  <tbody>\n",
              "    <tr>\n",
              "      <th>0</th>\n",
              "      <td>540.0</td>\n",
              "      <td>0.0</td>\n",
              "      <td>0.0</td>\n",
              "      <td>162.0</td>\n",
              "      <td>2.5</td>\n",
              "      <td>1040.0</td>\n",
              "      <td>676.0</td>\n",
              "      <td>28</td>\n",
              "      <td>79.99</td>\n",
              "    </tr>\n",
              "    <tr>\n",
              "      <th>1</th>\n",
              "      <td>540.0</td>\n",
              "      <td>0.0</td>\n",
              "      <td>0.0</td>\n",
              "      <td>162.0</td>\n",
              "      <td>2.5</td>\n",
              "      <td>1055.0</td>\n",
              "      <td>676.0</td>\n",
              "      <td>28</td>\n",
              "      <td>61.89</td>\n",
              "    </tr>\n",
              "    <tr>\n",
              "      <th>2</th>\n",
              "      <td>332.5</td>\n",
              "      <td>142.5</td>\n",
              "      <td>0.0</td>\n",
              "      <td>228.0</td>\n",
              "      <td>0.0</td>\n",
              "      <td>932.0</td>\n",
              "      <td>594.0</td>\n",
              "      <td>270</td>\n",
              "      <td>40.27</td>\n",
              "    </tr>\n",
              "    <tr>\n",
              "      <th>3</th>\n",
              "      <td>332.5</td>\n",
              "      <td>142.5</td>\n",
              "      <td>0.0</td>\n",
              "      <td>228.0</td>\n",
              "      <td>0.0</td>\n",
              "      <td>932.0</td>\n",
              "      <td>594.0</td>\n",
              "      <td>365</td>\n",
              "      <td>41.05</td>\n",
              "    </tr>\n",
              "    <tr>\n",
              "      <th>4</th>\n",
              "      <td>198.6</td>\n",
              "      <td>132.4</td>\n",
              "      <td>0.0</td>\n",
              "      <td>192.0</td>\n",
              "      <td>0.0</td>\n",
              "      <td>978.4</td>\n",
              "      <td>825.5</td>\n",
              "      <td>360</td>\n",
              "      <td>44.30</td>\n",
              "    </tr>\n",
              "  </tbody>\n",
              "</table>\n",
              "</div>\n",
              "    <div class=\"colab-df-buttons\">\n",
              "\n",
              "  <div class=\"colab-df-container\">\n",
              "    <button class=\"colab-df-convert\" onclick=\"convertToInteractive('df-eab98d46-6386-4061-92e6-8cb810ded878')\"\n",
              "            title=\"Convert this dataframe to an interactive table.\"\n",
              "            style=\"display:none;\">\n",
              "\n",
              "  <svg xmlns=\"http://www.w3.org/2000/svg\" height=\"24px\" viewBox=\"0 -960 960 960\">\n",
              "    <path d=\"M120-120v-720h720v720H120Zm60-500h600v-160H180v160Zm220 220h160v-160H400v160Zm0 220h160v-160H400v160ZM180-400h160v-160H180v160Zm440 0h160v-160H620v160ZM180-180h160v-160H180v160Zm440 0h160v-160H620v160Z\"/>\n",
              "  </svg>\n",
              "    </button>\n",
              "\n",
              "  <style>\n",
              "    .colab-df-container {\n",
              "      display:flex;\n",
              "      gap: 12px;\n",
              "    }\n",
              "\n",
              "    .colab-df-convert {\n",
              "      background-color: #E8F0FE;\n",
              "      border: none;\n",
              "      border-radius: 50%;\n",
              "      cursor: pointer;\n",
              "      display: none;\n",
              "      fill: #1967D2;\n",
              "      height: 32px;\n",
              "      padding: 0 0 0 0;\n",
              "      width: 32px;\n",
              "    }\n",
              "\n",
              "    .colab-df-convert:hover {\n",
              "      background-color: #E2EBFA;\n",
              "      box-shadow: 0px 1px 2px rgba(60, 64, 67, 0.3), 0px 1px 3px 1px rgba(60, 64, 67, 0.15);\n",
              "      fill: #174EA6;\n",
              "    }\n",
              "\n",
              "    .colab-df-buttons div {\n",
              "      margin-bottom: 4px;\n",
              "    }\n",
              "\n",
              "    [theme=dark] .colab-df-convert {\n",
              "      background-color: #3B4455;\n",
              "      fill: #D2E3FC;\n",
              "    }\n",
              "\n",
              "    [theme=dark] .colab-df-convert:hover {\n",
              "      background-color: #434B5C;\n",
              "      box-shadow: 0px 1px 3px 1px rgba(0, 0, 0, 0.15);\n",
              "      filter: drop-shadow(0px 1px 2px rgba(0, 0, 0, 0.3));\n",
              "      fill: #FFFFFF;\n",
              "    }\n",
              "  </style>\n",
              "\n",
              "    <script>\n",
              "      const buttonEl =\n",
              "        document.querySelector('#df-eab98d46-6386-4061-92e6-8cb810ded878 button.colab-df-convert');\n",
              "      buttonEl.style.display =\n",
              "        google.colab.kernel.accessAllowed ? 'block' : 'none';\n",
              "\n",
              "      async function convertToInteractive(key) {\n",
              "        const element = document.querySelector('#df-eab98d46-6386-4061-92e6-8cb810ded878');\n",
              "        const dataTable =\n",
              "          await google.colab.kernel.invokeFunction('convertToInteractive',\n",
              "                                                    [key], {});\n",
              "        if (!dataTable) return;\n",
              "\n",
              "        const docLinkHtml = 'Like what you see? Visit the ' +\n",
              "          '<a target=\"_blank\" href=https://colab.research.google.com/notebooks/data_table.ipynb>data table notebook</a>'\n",
              "          + ' to learn more about interactive tables.';\n",
              "        element.innerHTML = '';\n",
              "        dataTable['output_type'] = 'display_data';\n",
              "        await google.colab.output.renderOutput(dataTable, element);\n",
              "        const docLink = document.createElement('div');\n",
              "        docLink.innerHTML = docLinkHtml;\n",
              "        element.appendChild(docLink);\n",
              "      }\n",
              "    </script>\n",
              "  </div>\n",
              "\n",
              "\n",
              "<div id=\"df-b2ed81e4-74aa-4da3-9074-a91ca9d68c53\">\n",
              "  <button class=\"colab-df-quickchart\" onclick=\"quickchart('df-b2ed81e4-74aa-4da3-9074-a91ca9d68c53')\"\n",
              "            title=\"Suggest charts.\"\n",
              "            style=\"display:none;\">\n",
              "\n",
              "<svg xmlns=\"http://www.w3.org/2000/svg\" height=\"24px\"viewBox=\"0 0 24 24\"\n",
              "     width=\"24px\">\n",
              "    <g>\n",
              "        <path d=\"M19 3H5c-1.1 0-2 .9-2 2v14c0 1.1.9 2 2 2h14c1.1 0 2-.9 2-2V5c0-1.1-.9-2-2-2zM9 17H7v-7h2v7zm4 0h-2V7h2v10zm4 0h-2v-4h2v4z\"/>\n",
              "    </g>\n",
              "</svg>\n",
              "  </button>\n",
              "\n",
              "<style>\n",
              "  .colab-df-quickchart {\n",
              "      --bg-color: #E8F0FE;\n",
              "      --fill-color: #1967D2;\n",
              "      --hover-bg-color: #E2EBFA;\n",
              "      --hover-fill-color: #174EA6;\n",
              "      --disabled-fill-color: #AAA;\n",
              "      --disabled-bg-color: #DDD;\n",
              "  }\n",
              "\n",
              "  [theme=dark] .colab-df-quickchart {\n",
              "      --bg-color: #3B4455;\n",
              "      --fill-color: #D2E3FC;\n",
              "      --hover-bg-color: #434B5C;\n",
              "      --hover-fill-color: #FFFFFF;\n",
              "      --disabled-bg-color: #3B4455;\n",
              "      --disabled-fill-color: #666;\n",
              "  }\n",
              "\n",
              "  .colab-df-quickchart {\n",
              "    background-color: var(--bg-color);\n",
              "    border: none;\n",
              "    border-radius: 50%;\n",
              "    cursor: pointer;\n",
              "    display: none;\n",
              "    fill: var(--fill-color);\n",
              "    height: 32px;\n",
              "    padding: 0;\n",
              "    width: 32px;\n",
              "  }\n",
              "\n",
              "  .colab-df-quickchart:hover {\n",
              "    background-color: var(--hover-bg-color);\n",
              "    box-shadow: 0 1px 2px rgba(60, 64, 67, 0.3), 0 1px 3px 1px rgba(60, 64, 67, 0.15);\n",
              "    fill: var(--button-hover-fill-color);\n",
              "  }\n",
              "\n",
              "  .colab-df-quickchart-complete:disabled,\n",
              "  .colab-df-quickchart-complete:disabled:hover {\n",
              "    background-color: var(--disabled-bg-color);\n",
              "    fill: var(--disabled-fill-color);\n",
              "    box-shadow: none;\n",
              "  }\n",
              "\n",
              "  .colab-df-spinner {\n",
              "    border: 2px solid var(--fill-color);\n",
              "    border-color: transparent;\n",
              "    border-bottom-color: var(--fill-color);\n",
              "    animation:\n",
              "      spin 1s steps(1) infinite;\n",
              "  }\n",
              "\n",
              "  @keyframes spin {\n",
              "    0% {\n",
              "      border-color: transparent;\n",
              "      border-bottom-color: var(--fill-color);\n",
              "      border-left-color: var(--fill-color);\n",
              "    }\n",
              "    20% {\n",
              "      border-color: transparent;\n",
              "      border-left-color: var(--fill-color);\n",
              "      border-top-color: var(--fill-color);\n",
              "    }\n",
              "    30% {\n",
              "      border-color: transparent;\n",
              "      border-left-color: var(--fill-color);\n",
              "      border-top-color: var(--fill-color);\n",
              "      border-right-color: var(--fill-color);\n",
              "    }\n",
              "    40% {\n",
              "      border-color: transparent;\n",
              "      border-right-color: var(--fill-color);\n",
              "      border-top-color: var(--fill-color);\n",
              "    }\n",
              "    60% {\n",
              "      border-color: transparent;\n",
              "      border-right-color: var(--fill-color);\n",
              "    }\n",
              "    80% {\n",
              "      border-color: transparent;\n",
              "      border-right-color: var(--fill-color);\n",
              "      border-bottom-color: var(--fill-color);\n",
              "    }\n",
              "    90% {\n",
              "      border-color: transparent;\n",
              "      border-bottom-color: var(--fill-color);\n",
              "    }\n",
              "  }\n",
              "</style>\n",
              "\n",
              "  <script>\n",
              "    async function quickchart(key) {\n",
              "      const quickchartButtonEl =\n",
              "        document.querySelector('#' + key + ' button');\n",
              "      quickchartButtonEl.disabled = true;  // To prevent multiple clicks.\n",
              "      quickchartButtonEl.classList.add('colab-df-spinner');\n",
              "      try {\n",
              "        const charts = await google.colab.kernel.invokeFunction(\n",
              "            'suggestCharts', [key], {});\n",
              "      } catch (error) {\n",
              "        console.error('Error during call to suggestCharts:', error);\n",
              "      }\n",
              "      quickchartButtonEl.classList.remove('colab-df-spinner');\n",
              "      quickchartButtonEl.classList.add('colab-df-quickchart-complete');\n",
              "    }\n",
              "    (() => {\n",
              "      let quickchartButtonEl =\n",
              "        document.querySelector('#df-b2ed81e4-74aa-4da3-9074-a91ca9d68c53 button');\n",
              "      quickchartButtonEl.style.display =\n",
              "        google.colab.kernel.accessAllowed ? 'block' : 'none';\n",
              "    })();\n",
              "  </script>\n",
              "</div>\n",
              "    </div>\n",
              "  </div>\n"
            ],
            "text/plain": [
              "   Cement  Blast Furnace Slag  Fly Ash  Water  Superplasticizer  \\\n",
              "0   540.0                 0.0      0.0  162.0               2.5   \n",
              "1   540.0                 0.0      0.0  162.0               2.5   \n",
              "2   332.5               142.5      0.0  228.0               0.0   \n",
              "3   332.5               142.5      0.0  228.0               0.0   \n",
              "4   198.6               132.4      0.0  192.0               0.0   \n",
              "\n",
              "   Coarse Aggregate  Fine Aggregate  Age  Strength  \n",
              "0            1040.0           676.0   28     79.99  \n",
              "1            1055.0           676.0   28     61.89  \n",
              "2             932.0           594.0  270     40.27  \n",
              "3             932.0           594.0  365     41.05  \n",
              "4             978.4           825.5  360     44.30  "
            ]
          },
          "execution_count": 3,
          "metadata": {},
          "output_type": "execute_result"
        }
      ],
      "source": [
        "# use pandas to load data\n",
        "df=pd.read_csv('concrete_data.csv')\n",
        "df.head()"
      ]
    },
    {
      "cell_type": "code",
      "execution_count": 4,
      "id": "17633085",
      "metadata": {
        "id": "17633085"
      },
      "outputs": [],
      "source": [
        "X= df.drop('Strength',axis=1)\n",
        "y=df['Strength']"
      ]
    },
    {
      "cell_type": "code",
      "execution_count": 5,
      "id": "45937f59",
      "metadata": {
        "id": "45937f59"
      },
      "outputs": [],
      "source": [
        "# split data train 70% & test 30%\n",
        "x_train,x_test, y_train, y_test= train_test_split(X,y,train_size=.70,random_state=42)"
      ]
    },
    {
      "cell_type": "markdown",
      "id": "9a0454b9",
      "metadata": {
        "id": "9a0454b9"
      },
      "source": [
        "# Build Neural Network"
      ]
    },
    {
      "cell_type": "code",
      "execution_count": 6,
      "id": "52b56d6b",
      "metadata": {
        "id": "52b56d6b"
      },
      "outputs": [],
      "source": [
        "# function of the shallow neural network\n",
        "\n",
        "def shallow_regression ():\n",
        "    #create model\n",
        "    model= Sequential()\n",
        "    model.add(Dense(10,activation=\"relu\", input_shape=(x_train.shape[1],)))\n",
        "    model.add(Dense(1))\n",
        "    # compile model\n",
        "    model.compile(optimizer='adam', loss='mean_squared_error')\n",
        "    return model"
      ]
    },
    {
      "cell_type": "code",
      "execution_count": 39,
      "id": "bf86d853",
      "metadata": {
        "id": "bf86d853"
      },
      "outputs": [],
      "source": [
        "# build the model\n",
        "model=shallow_regression()"
      ]
    },
    {
      "cell_type": "markdown",
      "id": "8a37b695",
      "metadata": {
        "id": "8a37b695"
      },
      "source": [
        "# Train Model  (A)"
      ]
    },
    {
      "cell_type": "code",
      "execution_count": 8,
      "id": "789afbc4",
      "metadata": {
        "colab": {
          "base_uri": "https://localhost:8080/"
        },
        "id": "789afbc4",
        "outputId": "34557ddb-f103-409f-ac51-ea7d311d86e3",
        "scrolled": true
      },
      "outputs": [
        {
          "name": "stdout",
          "output_type": "stream",
          "text": [
            "Epoch 1/50\n",
            "23/23 - 1s - loss: 13609.2432 - 853ms/epoch - 37ms/step\n",
            "Epoch 2/50\n",
            "23/23 - 0s - loss: 8011.8628 - 36ms/epoch - 2ms/step\n",
            "Epoch 3/50\n",
            "23/23 - 0s - loss: 5790.4175 - 41ms/epoch - 2ms/step\n",
            "Epoch 4/50\n",
            "23/23 - 0s - loss: 4335.3296 - 44ms/epoch - 2ms/step\n",
            "Epoch 5/50\n",
            "23/23 - 0s - loss: 3024.0859 - 37ms/epoch - 2ms/step\n",
            "Epoch 6/50\n",
            "23/23 - 0s - loss: 1952.5372 - 37ms/epoch - 2ms/step\n",
            "Epoch 7/50\n",
            "23/23 - 0s - loss: 1361.3386 - 37ms/epoch - 2ms/step\n",
            "Epoch 8/50\n",
            "23/23 - 0s - loss: 1047.6565 - 39ms/epoch - 2ms/step\n",
            "Epoch 9/50\n",
            "23/23 - 0s - loss: 834.6951 - 39ms/epoch - 2ms/step\n",
            "Epoch 10/50\n",
            "23/23 - 0s - loss: 706.5054 - 38ms/epoch - 2ms/step\n",
            "Epoch 11/50\n",
            "23/23 - 0s - loss: 617.6689 - 45ms/epoch - 2ms/step\n",
            "Epoch 12/50\n",
            "23/23 - 0s - loss: 551.4622 - 42ms/epoch - 2ms/step\n",
            "Epoch 13/50\n",
            "23/23 - 0s - loss: 496.2812 - 36ms/epoch - 2ms/step\n",
            "Epoch 14/50\n",
            "23/23 - 0s - loss: 454.5711 - 40ms/epoch - 2ms/step\n",
            "Epoch 15/50\n",
            "23/23 - 0s - loss: 422.2774 - 38ms/epoch - 2ms/step\n",
            "Epoch 16/50\n",
            "23/23 - 0s - loss: 397.1149 - 41ms/epoch - 2ms/step\n",
            "Epoch 17/50\n",
            "23/23 - 0s - loss: 375.2517 - 45ms/epoch - 2ms/step\n",
            "Epoch 18/50\n",
            "23/23 - 0s - loss: 360.0647 - 60ms/epoch - 3ms/step\n",
            "Epoch 19/50\n",
            "23/23 - 0s - loss: 348.2491 - 38ms/epoch - 2ms/step\n",
            "Epoch 20/50\n",
            "23/23 - 0s - loss: 331.8933 - 38ms/epoch - 2ms/step\n",
            "Epoch 21/50\n",
            "23/23 - 0s - loss: 314.8920 - 44ms/epoch - 2ms/step\n",
            "Epoch 22/50\n",
            "23/23 - 0s - loss: 303.8608 - 39ms/epoch - 2ms/step\n",
            "Epoch 23/50\n",
            "23/23 - 0s - loss: 300.2687 - 38ms/epoch - 2ms/step\n",
            "Epoch 24/50\n",
            "23/23 - 0s - loss: 287.6027 - 39ms/epoch - 2ms/step\n",
            "Epoch 25/50\n",
            "23/23 - 0s - loss: 271.8703 - 38ms/epoch - 2ms/step\n",
            "Epoch 26/50\n",
            "23/23 - 0s - loss: 262.1134 - 37ms/epoch - 2ms/step\n",
            "Epoch 27/50\n",
            "23/23 - 0s - loss: 254.0904 - 37ms/epoch - 2ms/step\n",
            "Epoch 28/50\n",
            "23/23 - 0s - loss: 249.5790 - 36ms/epoch - 2ms/step\n",
            "Epoch 29/50\n",
            "23/23 - 0s - loss: 246.7480 - 40ms/epoch - 2ms/step\n",
            "Epoch 30/50\n",
            "23/23 - 0s - loss: 238.3230 - 42ms/epoch - 2ms/step\n",
            "Epoch 31/50\n",
            "23/23 - 0s - loss: 229.4981 - 43ms/epoch - 2ms/step\n",
            "Epoch 32/50\n",
            "23/23 - 0s - loss: 223.9593 - 40ms/epoch - 2ms/step\n",
            "Epoch 33/50\n",
            "23/23 - 0s - loss: 215.9448 - 58ms/epoch - 3ms/step\n",
            "Epoch 34/50\n",
            "23/23 - 0s - loss: 209.8852 - 46ms/epoch - 2ms/step\n",
            "Epoch 35/50\n",
            "23/23 - 0s - loss: 207.2218 - 43ms/epoch - 2ms/step\n",
            "Epoch 36/50\n",
            "23/23 - 0s - loss: 199.9542 - 42ms/epoch - 2ms/step\n",
            "Epoch 37/50\n",
            "23/23 - 0s - loss: 196.0603 - 41ms/epoch - 2ms/step\n",
            "Epoch 38/50\n",
            "23/23 - 0s - loss: 192.8471 - 41ms/epoch - 2ms/step\n",
            "Epoch 39/50\n",
            "23/23 - 0s - loss: 191.0749 - 42ms/epoch - 2ms/step\n",
            "Epoch 40/50\n",
            "23/23 - 0s - loss: 184.6395 - 47ms/epoch - 2ms/step\n",
            "Epoch 41/50\n",
            "23/23 - 0s - loss: 183.5012 - 40ms/epoch - 2ms/step\n",
            "Epoch 42/50\n",
            "23/23 - 0s - loss: 173.6881 - 41ms/epoch - 2ms/step\n",
            "Epoch 43/50\n",
            "23/23 - 0s - loss: 185.6550 - 37ms/epoch - 2ms/step\n",
            "Epoch 44/50\n",
            "23/23 - 0s - loss: 165.5753 - 37ms/epoch - 2ms/step\n",
            "Epoch 45/50\n",
            "23/23 - 0s - loss: 165.7740 - 38ms/epoch - 2ms/step\n",
            "Epoch 46/50\n",
            "23/23 - 0s - loss: 161.4117 - 41ms/epoch - 2ms/step\n",
            "Epoch 47/50\n",
            "23/23 - 0s - loss: 154.0547 - 38ms/epoch - 2ms/step\n",
            "Epoch 48/50\n",
            "23/23 - 0s - loss: 153.7752 - 41ms/epoch - 2ms/step\n",
            "Epoch 49/50\n",
            "23/23 - 0s - loss: 149.9730 - 35ms/epoch - 2ms/step\n",
            "Epoch 50/50\n",
            "23/23 - 0s - loss: 149.5299 - 37ms/epoch - 2ms/step\n"
          ]
        },
        {
          "data": {
            "text/plain": [
              "<keras.src.callbacks.History at 0x7b7bf6fdecb0>"
            ]
          },
          "execution_count": 8,
          "metadata": {},
          "output_type": "execute_result"
        }
      ],
      "source": [
        "# fit the model\n",
        "model.fit(x_train, y_train, epochs=50, verbose=2)"
      ]
    },
    {
      "cell_type": "markdown",
      "id": "177f3262",
      "metadata": {
        "id": "177f3262"
      },
      "source": [
        "# Evaluate"
      ]
    },
    {
      "cell_type": "code",
      "execution_count": 9,
      "id": "87670aa6",
      "metadata": {
        "colab": {
          "base_uri": "https://localhost:8080/"
        },
        "id": "87670aa6",
        "outputId": "c2f830b0-7db0-4b7b-8fc8-c50758dc364a"
      },
      "outputs": [
        {
          "name": "stdout",
          "output_type": "stream",
          "text": [
            "10/10 [==============================] - 0s 2ms/step - loss: 152.4293\n"
          ]
        },
        {
          "data": {
            "text/plain": [
              "152.4292755126953"
            ]
          },
          "execution_count": 9,
          "metadata": {},
          "output_type": "execute_result"
        }
      ],
      "source": [
        "loss_val = model.evaluate(x_test, y_test)\n",
        "loss_val"
      ]
    },
    {
      "cell_type": "code",
      "execution_count": 10,
      "id": "1cb37752",
      "metadata": {
        "colab": {
          "base_uri": "https://localhost:8080/"
        },
        "id": "1cb37752",
        "outputId": "d86b56f4-5c88-43fd-dff9-2b369193f35d"
      },
      "outputs": [
        {
          "name": "stdout",
          "output_type": "stream",
          "text": [
            "10/10 [==============================] - 0s 3ms/step\n",
            "152.42927083512157 0.0\n"
          ]
        }
      ],
      "source": [
        "# sklearn\n",
        "y_pred = model.predict(x_test)\n",
        "MSE = mean_squared_error(y_test, y_pred)\n",
        "mean = np.mean(MSE)\n",
        "standard_deviation = np.std(MSE)\n",
        "print(mean, standard_deviation)"
      ]
    },
    {
      "cell_type": "code",
      "execution_count": 11,
      "id": "39ef1c7b",
      "metadata": {
        "colab": {
          "base_uri": "https://localhost:8080/"
        },
        "id": "39ef1c7b",
        "outputId": "6cc20b58-34cd-4040-9ae6-083c75acfc81"
      },
      "outputs": [
        {
          "name": "stdout",
          "output_type": "stream",
          "text": [
            "MSE 1: 129.6521453857422\n",
            "10/10 [==============================] - 0s 2ms/step\n",
            "MSE 2: 116.13692474365234\n",
            "10/10 [==============================] - 0s 3ms/step\n",
            "MSE 3: 104.88802337646484\n",
            "10/10 [==============================] - 0s 2ms/step\n",
            "MSE 4: 116.30975341796875\n",
            "10/10 [==============================] - 0s 2ms/step\n",
            "MSE 5: 122.12785339355469\n",
            "10/10 [==============================] - 0s 2ms/step\n",
            "MSE 6: 96.41986083984375\n",
            "10/10 [==============================] - 0s 3ms/step\n",
            "MSE 7: 90.90367126464844\n",
            "10/10 [==============================] - 0s 2ms/step\n",
            "MSE 8: 71.7380599975586\n",
            "10/10 [==============================] - 0s 2ms/step\n",
            "MSE 9: 66.20088958740234\n",
            "10/10 [==============================] - 0s 2ms/step\n",
            "MSE 10: 65.68372344970703\n",
            "10/10 [==============================] - 0s 2ms/step\n",
            "MSE 11: 57.58830642700195\n",
            "10/10 [==============================] - 0s 2ms/step\n",
            "MSE 12: 51.926124572753906\n",
            "10/10 [==============================] - 0s 2ms/step\n",
            "MSE 13: 59.4508171081543\n",
            "10/10 [==============================] - 0s 3ms/step\n",
            "MSE 14: 93.67388153076172\n",
            "10/10 [==============================] - 0s 11ms/step\n",
            "MSE 15: 54.404747009277344\n",
            "10/10 [==============================] - 0s 5ms/step\n",
            "MSE 16: 46.223052978515625\n",
            "10/10 [==============================] - 0s 5ms/step\n",
            "MSE 17: 50.46245574951172\n",
            "10/10 [==============================] - 0s 2ms/step\n",
            "MSE 18: 48.93395233154297\n",
            "10/10 [==============================] - 0s 2ms/step\n",
            "MSE 19: 45.56782531738281\n",
            "10/10 [==============================] - 0s 2ms/step\n",
            "MSE 20: 57.055824279785156\n",
            "10/10 [==============================] - 0s 3ms/step\n",
            "MSE 21: 46.012298583984375\n",
            "10/10 [==============================] - 0s 2ms/step\n",
            "MSE 22: 64.0601806640625\n",
            "10/10 [==============================] - 0s 8ms/step\n",
            "MSE 23: 47.526832580566406\n",
            "10/10 [==============================] - 0s 2ms/step\n",
            "MSE 24: 47.394744873046875\n",
            "10/10 [==============================] - 0s 2ms/step\n",
            "MSE 25: 48.99149703979492\n",
            "10/10 [==============================] - 0s 3ms/step\n",
            "MSE 26: 47.39339828491211\n",
            "10/10 [==============================] - 0s 2ms/step\n",
            "MSE 27: 48.43722915649414\n",
            "10/10 [==============================] - 0s 2ms/step\n",
            "MSE 28: 45.02003860473633\n",
            "10/10 [==============================] - 0s 2ms/step\n",
            "MSE 29: 58.92879104614258\n",
            "10/10 [==============================] - 0s 2ms/step\n",
            "MSE 30: 61.49558639526367\n",
            "10/10 [==============================] - 0s 2ms/step\n",
            "MSE 31: 69.7055892944336\n",
            "10/10 [==============================] - 0s 2ms/step\n",
            "MSE 32: 44.753135681152344\n",
            "10/10 [==============================] - 0s 2ms/step\n",
            "MSE 33: 48.690887451171875\n",
            "10/10 [==============================] - 0s 2ms/step\n",
            "MSE 34: 50.25307083129883\n",
            "10/10 [==============================] - 0s 2ms/step\n",
            "MSE 35: 56.89101791381836\n",
            "10/10 [==============================] - 0s 2ms/step\n",
            "MSE 36: 55.26829147338867\n",
            "10/10 [==============================] - 0s 2ms/step\n",
            "MSE 37: 55.13420486450195\n",
            "10/10 [==============================] - 0s 2ms/step\n",
            "MSE 38: 62.09550094604492\n",
            "10/10 [==============================] - 0s 2ms/step\n",
            "MSE 39: 51.2500114440918\n",
            "10/10 [==============================] - 0s 2ms/step\n",
            "MSE 40: 44.92560958862305\n",
            "10/10 [==============================] - 0s 2ms/step\n",
            "MSE 41: 58.58966827392578\n",
            "10/10 [==============================] - 0s 2ms/step\n",
            "MSE 42: 49.18678283691406\n",
            "10/10 [==============================] - 0s 3ms/step\n",
            "MSE 43: 54.7171745300293\n",
            "10/10 [==============================] - 0s 2ms/step\n",
            "MSE 44: 53.83148956298828\n",
            "10/10 [==============================] - 0s 2ms/step\n",
            "MSE 45: 65.47100067138672\n",
            "10/10 [==============================] - 0s 2ms/step\n",
            "MSE 46: 58.34193420410156\n",
            "10/10 [==============================] - 0s 2ms/step\n",
            "MSE 47: 51.86051940917969\n",
            "10/10 [==============================] - 0s 3ms/step\n",
            "MSE 48: 50.73479080200195\n",
            "10/10 [==============================] - 0s 2ms/step\n",
            "MSE 49: 54.290245056152344\n",
            "10/10 [==============================] - 0s 2ms/step\n",
            "MSE 50: 62.39649200439453\n",
            "10/10 [==============================] - 0s 2ms/step\n"
          ]
        }
      ],
      "source": [
        "n = 50\n",
        "epochs = 50\n",
        "mean_squared_errors = []\n",
        "for i in range(0, n):\n",
        "    X_train, X_test, y_train, y_test = train_test_split(X, y, test_size=0.3, random_state=i)\n",
        "    model.fit(X_train, y_train, epochs=epochs, verbose=0)\n",
        "    MSE = model.evaluate(X_test, y_test, verbose=0)\n",
        "    print(\"MSE \"+str(i+1)+\": \"+str(MSE))\n",
        "    y_pred = model.predict(X_test)\n",
        "    mean_square = mean_squared_error(y_test, y_pred)\n",
        "    mean_squared_errors.append(mean_square)"
      ]
    },
    {
      "cell_type": "code",
      "execution_count": 12,
      "id": "316a0250",
      "metadata": {
        "colab": {
          "base_uri": "https://localhost:8080/"
        },
        "id": "316a0250",
        "outputId": "e263f8ae-f098-4898-c1a6-8c9a7c460c6f"
      },
      "outputs": [
        {
          "name": "stdout",
          "output_type": "stream",
          "text": [
            "\n",
            "\n",
            "Mean and standard deviation of 50\n",
            "Total number of epochs for each training is: 50\n",
            "\n",
            "Mean: 63.179920114198175\n",
            "\n",
            "Standard Deviation: 21.623674234585334\n"
          ]
        }
      ],
      "source": [
        "mean_squared_errors = np.array(mean_squared_errors)\n",
        "mean = np.mean(mean_squared_errors)\n",
        "standard_deviation = np.std(mean_squared_errors)\n",
        "\n",
        "print('\\n')\n",
        "print(\"Mean and standard deviation of \" +str(n) + \"\\nTotal number of epochs for each training is: \" +str(epochs) + \"\\n\")\n",
        "print(\"Mean: \"+str(mean)+\"\\n\")\n",
        "print(\"Standard Deviation: \"+str(standard_deviation))"
      ]
    },
    {
      "cell_type": "markdown",
      "id": "XWwaAUWk1MIG",
      "metadata": {
        "id": "XWwaAUWk1MIG"
      },
      "source": [
        "***************************************************************\n",
        "\n",
        "\n",
        "Task A\n",
        "\n",
        "    Mean = 63.179920114198175\n",
        "\n",
        "\n"
      ]
    }
  ],
  "metadata": {
    "colab": {
      "collapsed_sections": [
        "8a37b695"
      ],
      "provenance": []
    },
    "kernelspec": {
      "display_name": "Python 3 (ipykernel)",
      "language": "python",
      "name": "python3"
    },
    "language_info": {
      "codemirror_mode": {
        "name": "ipython",
        "version": 3
      },
      "file_extension": ".py",
      "mimetype": "text/x-python",
      "name": "python",
      "nbconvert_exporter": "python",
      "pygments_lexer": "ipython3",
      "version": "3.9.13"
    }
  },
  "nbformat": 4,
  "nbformat_minor": 5
}
